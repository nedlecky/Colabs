{
  "nbformat": 4,
  "nbformat_minor": 0,
  "metadata": {
    "colab": {
      "provenance": [],
      "mount_file_id": "1WvTQ3_hVK4dSE9Ro19NSUwelYnkcrbZF",
      "authorship_tag": "ABX9TyNVyZRgOIV25Y6Lo2MZ6lsk",
      "include_colab_link": true
    },
    "kernelspec": {
      "name": "python3",
      "display_name": "Python 3"
    },
    "language_info": {
      "name": "python"
    }
  },
  "cells": [
    {
      "cell_type": "markdown",
      "metadata": {
        "id": "view-in-github",
        "colab_type": "text"
      },
      "source": [
        "<a href=\"https://colab.research.google.com/github/nedlecky/Colabs/blob/main/SensorFusionDataAnalyzer0_1.ipynb\" target=\"_parent\"><img src=\"https://colab.research.google.com/assets/colab-badge.svg\" alt=\"Open In Colab\"/></a>"
      ]
    },
    {
      "cell_type": "markdown",
      "source": [
        "# SensorFusion Data Recording Analyzer 0.1\n",
        "---\n",
        "<br>Version 0.1\n",
        "<br>12/14/2023\n",
        "<br>Ned Lecky ned@lecky.com\n",
        "<br>\n",
        "<br>This demo code ingests TI data recordings from SensorFusion and generates output analysis files. This is intended as an initial example of what we can do!"
      ],
      "metadata": {
        "id": "aws6-0mAg4Qz"
      }
    },
    {
      "cell_type": "markdown",
      "source": [],
      "metadata": {
        "id": "iWXuDar6vPOx"
      }
    },
    {
      "cell_type": "code",
      "execution_count": 35,
      "metadata": {
        "id": "WIUSOZg0ruXw"
      },
      "outputs": [],
      "source": [
        "# Standard Imports\n",
        "import os\n",
        "import pandas as pd\n",
        "import datetime\n",
        "import matplotlib.pyplot as plt\n"
      ]
    },
    {
      "cell_type": "code",
      "source": [
        "# Connect to Google Drive\n",
        "from google.colab import drive\n",
        "drive.mount('/content/drive')"
      ],
      "metadata": {
        "colab": {
          "base_uri": "https://localhost:8080/"
        },
        "id": "_MmOBuYIgSux",
        "outputId": "186ece7b-6b66-484f-fa19-8f06fbd8234a"
      },
      "execution_count": 36,
      "outputs": [
        {
          "output_type": "stream",
          "name": "stdout",
          "text": [
            "Drive already mounted at /content/drive; to attempt to forcibly remount, call drive.mount(\"/content/drive\", force_remount=True).\n"
          ]
        }
      ]
    },
    {
      "cell_type": "code",
      "source": [
        "class SFD:\n",
        "  '''\n",
        "  Simple class to import, analyze, and graph SensorFusion reports.\n",
        "  '''\n",
        "  path = 'PLEASE SET ME'\n",
        "\n",
        "  def __init__(self, filename):\n",
        "    self.read_file(filename)\n",
        "\n",
        "  def remove_file(self, extensions):\n",
        "    for ext in extensions:\n",
        "      try:\n",
        "        os.remove(f'{SFD.path}{self.filename_noext}{ext}')\n",
        "      except:\n",
        "        pass\n",
        "\n",
        "  def read_file(self, filename):\n",
        "    print(f'SFD.read_file({filename})')\n",
        "    self.filename = os.path.basename(filename)\n",
        "    self.filename_noext = self.filename[0:-4]\n",
        "    self.df = pd.read_csv(f'{SFD.path}{filename}', index_col=0, parse_dates=True)\n",
        "\n",
        "    # Remove any files that were (probably?) generated for this CSV\n",
        "    self.remove_file(['.txt', '.jpg', '_1.jpg', '_2.jpg', 'df.jpg'])\n",
        "\n",
        "  def show_stats(self):\n",
        "    filename = f'{SFD.path}{self.filename_noext}.txt'\n",
        "    with open(filename, 'w') as file:\n",
        "      file.write(f'SensorFusionData Statistics\\n')\n",
        "      file.write(f'   Filename: {self.filename}\\n')\n",
        "      file.write(f'  Generated: {datetime.datetime.now()}\\n\\n')\n",
        "      file.write(f'{self.df.head()}\\n...\\n\\n')\n",
        "      file.write(f'{self.df.describe()}\\n')\n",
        "\n",
        "    with open(filename, 'r') as file:\n",
        "      return file.read()\n",
        "\n",
        "  def plot1(self):\n",
        "    plt.ioff()\n",
        "    ax = self.df.plot(\n",
        "        title=self.filename, figsize=(20,10), layout=(4,1),\n",
        "        subplots=[('Range',), ('Strength',), ('Elevation', 'Azimuth'), ('Velocity',)])\n",
        "    #plt.show()\n",
        "    ax[0,0].get_figure().savefig(f'{SFD.path}{self.filename_noext}_1.jpg')\n",
        "\n",
        "  def plot2(self):\n",
        "    plt.ioff()\n",
        "    fig = plt.figure(figsize=(20,10))\n",
        "\n",
        "    ax = fig.add_subplot(411)\n",
        "    ax.plot(self.df.index, self.df[\"Range\"], color='blue')\n",
        "\n",
        "    ax = fig.add_subplot(412)\n",
        "    ax.plot(self.df.index, self.df[\"Strength\"], color='purple')\n",
        "\n",
        "    ax = fig.add_subplot(413)\n",
        "    ax.plot(self.df.index, self.df[\"Azimuth\"], color='orange')\n",
        "    ax.plot(self.df.index, self.df[\"Elevation\"], color='green')\n",
        "\n",
        "    ax = fig.add_subplot(414)\n",
        "    ax.plot(self.df.index, self.df[\"Velocity\"], color='red')\n",
        "\n",
        "    #plt.show()\n",
        "    fig.savefig(f'{SFD.path}{self.filename_noext}_2.jpg')\n"
      ],
      "metadata": {
        "id": "FQeiizqbhImj"
      },
      "execution_count": 37,
      "outputs": []
    },
    {
      "cell_type": "code",
      "source": [
        "# Get the list of all files and directories\n",
        "SFD.path = \"drive/MyDrive/SensorFusionData/\"\n",
        "file_listing = os.listdir(SFD.path)\n",
        "\n",
        "file_listing.sort()\n",
        "for filename in file_listing:\n",
        "  if filename.endswith('.csv'):\n",
        "      sf = SFD(filename)\n",
        "      print(sf.show_stats())\n",
        "      sf.plot1()\n",
        "      #sf.plot2()\n"
      ],
      "metadata": {
        "colab": {
          "base_uri": "https://localhost:8080/"
        },
        "id": "NcbnvEN4ga_u",
        "outputId": "38822a33-d602-47c4-8a31-042484f6f3c5"
      },
      "execution_count": 41,
      "outputs": [
        {
          "output_type": "stream",
          "name": "stdout",
          "text": [
            "SFD.read_file(recording-TI2-2023-12-16T08-00-41.csv)\n",
            "SensorFusionData Statistics\n",
            "   Filename: recording-TI2-2023-12-16T08-00-41.csv\n",
            "  Generated: 2023-12-17 13:14:49.227223\n",
            "\n",
            "                        Range  Elevation  Azimuth  Velocity  Strength\n",
            "Datetime                                                             \n",
            "2023-12-17 00:41:12  6.891750      -0.36    -0.01   0.00000      6.00\n",
            "2023-12-17 00:41:12  6.575500       0.28     0.07   0.13916     15.00\n",
            "2023-12-17 00:41:12  6.512250       0.29     0.10   0.13916     16.00\n",
            "2023-12-17 00:41:18  7.144500      -0.46    -0.26   0.13916      6.00\n",
            "2023-12-17 00:41:18  7.081501      -0.45    -0.30   0.13916      5.76\n",
            "...\n",
            "\n",
            "            Range   Elevation     Azimuth    Velocity    Strength\n",
            "count  799.000000  799.000000  799.000000  799.000000  799.000000\n",
            "mean     5.875130    0.184606    0.047860    0.960474   15.899975\n",
            "std      1.706237    0.297348    0.109685    1.381346    9.713609\n",
            "min      1.454250   -0.910000   -0.390000    0.000000    5.000000\n",
            "25%      6.386000    0.200000    0.070000    0.139160    6.640000\n",
            "50%      6.512250    0.260000    0.070000    0.139160   14.240000\n",
            "75%      6.575500    0.290000    0.110000    1.322160   23.440000\n",
            "max      7.207750    0.890000    0.230000    4.453120   46.880000\n",
            "\n",
            "SFD.read_file(recording-TI2-2023-12-16T08-10-36.csv)\n",
            "SensorFusionData Statistics\n",
            "   Filename: recording-TI2-2023-12-16T08-10-36.csv\n",
            "  Generated: 2023-12-17 13:14:49.867707\n",
            "\n",
            "                        Range  Elevation  Azimuth  Velocity  Strength\n",
            "Datetime                                                             \n",
            "2023-12-17 10:36:48  6.638751       0.25     0.07   0.00000      6.24\n",
            "2023-12-17 10:38:06  6.575500       0.23     0.03   0.13916      6.12\n",
            "2023-12-17 10:38:06  6.512250       0.25     0.07   0.13916      5.52\n",
            "2023-12-17 10:38:18  6.512250       0.25     0.07   0.13916      5.12\n",
            "2023-12-17 10:38:30  6.638751       0.23     0.07   0.00000      5.64\n",
            "...\n",
            "\n",
            "           Range  Elevation   Azimuth   Velocity   Strength\n",
            "count  10.000000  10.000000  10.00000  10.000000  10.000000\n",
            "mean    6.626100   0.271000   0.07000   0.083496   5.676000\n",
            "std     0.145460   0.044335   0.06532   0.071862   0.440787\n",
            "min     6.512250   0.230000  -0.01000   0.000000   5.000000\n",
            "25%     6.575500   0.250000   0.03000   0.000000   5.310000\n",
            "50%     6.575500   0.250000   0.07000   0.139160   5.760000\n",
            "75%     6.638751   0.302500   0.07000   0.139160   6.000000\n",
            "max     7.018250   0.350000   0.23000   0.139160   6.240000\n",
            "\n",
            "SFD.read_file(recording-TI2-2023-12-16T08-10-45.csv)\n",
            "SensorFusionData Statistics\n",
            "   Filename: recording-TI2-2023-12-16T08-10-45.csv\n",
            "  Generated: 2023-12-17 13:14:50.489088\n",
            "\n",
            "                        Range  Elevation  Azimuth  Velocity  Strength\n",
            "Datetime                                                             \n",
            "2023-12-17 10:46:00  6.575500       0.20     0.11   0.13916      5.24\n",
            "2023-12-17 10:46:48  6.575500       0.28     0.03   0.13916      5.64\n",
            "2023-12-17 10:51:42  6.638751       0.25     0.03   0.00000      6.52\n",
            "2023-12-17 10:51:42  6.575500       0.26     0.07   0.13916      8.88\n",
            "2023-12-17 10:51:54  6.575500       0.28     0.11   0.13916      6.00\n",
            "...\n",
            "\n",
            "              Range     Elevation       Azimuth      Velocity      Strength\n",
            "count  17860.000000  17860.000000  17860.000000  17860.000000  17860.000000\n",
            "mean       2.950996     -0.098527     -0.017476      0.756892    278.686042\n",
            "std        1.760046      0.448303      0.189473      0.521146    475.159338\n",
            "min        0.253000     -1.270000     -1.190000      0.000000      5.000000\n",
            "25%        1.517500     -0.180000     -0.050000      0.348040     13.120000\n",
            "50%        2.718750     -0.070000     -0.010000      0.695800     61.760000\n",
            "75%        3.667250      0.060000      0.070000      1.113280    304.640000\n",
            "max        7.524000      1.270000      1.120000      4.453120   2621.120000\n",
            "\n",
            "SFD.read_file(recording-TI2-2023-12-16T18-07-31.csv)\n",
            "SensorFusionData Statistics\n",
            "   Filename: recording-TI2-2023-12-16T18-07-31.csv\n",
            "  Generated: 2023-12-17 13:14:51.263655\n",
            "\n",
            "                           Range  Elevation  Azimuth  Velocity  Strength\n",
            "Datetime                                                                \n",
            "2023-12-16 18:07:32.005  6.57550       0.27     0.03   0.13916      6.12\n",
            "2023-12-16 18:07:32.117  6.51225       0.29     0.07   0.00000      6.52\n",
            "2023-12-16 18:07:33.217  6.76525      -0.39     0.07   0.00000      5.00\n",
            "2023-12-16 18:07:33.876  7.01825       0.56    -0.09   1.39160      5.00\n",
            "2023-12-16 18:07:36.625  6.57550       0.30     0.07   0.13916      5.52\n",
            "...\n",
            "\n",
            "            Range   Elevation     Azimuth    Velocity    Strength\n",
            "count  139.000000  139.000000  139.000000  139.000000  139.000000\n",
            "mean     6.313052    0.240504    0.068273    1.055249   15.631367\n",
            "std      1.137600    0.193250    0.064290    1.251341    9.128966\n",
            "min      1.517500   -0.520000   -0.260000    0.000000    5.000000\n",
            "25%      6.512250    0.245000    0.070000    0.139160    7.120000\n",
            "50%      6.575500    0.270000    0.070000    0.139160   14.240000\n",
            "75%      6.575500    0.300000    0.110000    2.470160   21.680000\n",
            "max      7.144500    0.850000    0.190000    4.035640   46.120000\n",
            "\n",
            "SFD.read_file(recording-TI2-2023-12-17T07-55-58.csv)\n",
            "SensorFusionData Statistics\n",
            "   Filename: recording-TI2-2023-12-17T07-55-58.csv\n",
            "  Generated: 2023-12-17 13:14:51.836297\n",
            "\n",
            "                           Range  Elevation  Azimuth  Velocity  Strength\n",
            "Datetime                                                                \n",
            "2023-12-17 07:55:58.488  6.82850      -0.39     0.03   0.00000      7.24\n",
            "2023-12-17 07:55:58.650  6.57550       0.27    -0.05   0.13916      5.12\n",
            "2023-12-17 07:55:59.037  6.89175      -0.35    -0.01   0.00000      5.36\n",
            "2023-12-17 07:55:59.037  6.95500      -0.35    -0.01   0.00000      6.88\n",
            "2023-12-17 07:56:00.138  6.95500      -0.41     0.03   0.00000      5.24\n",
            "...\n",
            "\n",
            "           Range  Elevation    Azimuth   Velocity   Strength\n",
            "count  12.000000  12.000000  12.000000  12.000000  12.000000\n",
            "mean    6.781063  -0.260833   0.025000   0.330517   7.120000\n",
            "std     0.126859   0.248540   0.033979   1.101846   1.893069\n",
            "min     6.575500  -0.410000  -0.050000   0.000000   5.120000\n",
            "25%     6.702000  -0.362500   0.020000   0.000000   5.570000\n",
            "50%     6.796875  -0.360000   0.030000   0.000000   6.940000\n",
            "75%     6.844313  -0.350000   0.037500   0.000000   7.740000\n",
            "max     6.955000   0.270000   0.070000   3.827040  11.120000\n",
            "\n",
            "SFD.read_file(recording-TI2-2023-12-17T07-56-10.csv)\n",
            "SensorFusionData Statistics\n",
            "   Filename: recording-TI2-2023-12-17T07-56-10.csv\n",
            "  Generated: 2023-12-17 13:14:52.961745\n",
            "\n",
            "                            Range  Elevation  Azimuth  Velocity  Strength\n",
            "Datetime                                                                 \n",
            "2023-12-17 07:56:11.025  6.575500       0.25     0.03   0.13916      5.52\n",
            "2023-12-17 07:56:11.465  6.575500       0.25     0.03   0.13916      5.00\n",
            "2023-12-17 07:56:12.237  6.828500      -0.36     0.03   0.00000      5.88\n",
            "2023-12-17 07:56:12.237  6.196250       0.00     0.03   0.00000      6.64\n",
            "2023-12-17 07:56:12.237  6.259501       0.00    -0.01   0.00000      5.00\n",
            "...\n",
            "\n",
            "           Range  Elevation    Azimuth   Velocity   Strength\n",
            "count  39.000000  39.000000  39.000000  39.000000  39.000000\n",
            "mean    6.753923  -0.138718   0.038974   0.057091   7.074872\n",
            "std     0.238759   0.309738   0.066086   0.161903   2.842714\n",
            "min     6.196250  -0.420000  -0.050000   0.000000   5.000000\n",
            "25%     6.575500  -0.355000   0.025000   0.000000   5.240000\n",
            "50%     6.828500  -0.340000   0.030000   0.000000   5.880000\n",
            "75%     6.955000   0.125000   0.050000   0.069580   7.820000\n",
            "max     7.018250   0.670000   0.400000   0.974120  17.240000\n",
            "\n"
          ]
        }
      ]
    },
    {
      "cell_type": "code",
      "source": [],
      "metadata": {
        "id": "RT6VMP1kpGI6"
      },
      "execution_count": 4,
      "outputs": []
    }
  ]
}