{
  "nbformat": 4,
  "nbformat_minor": 0,
  "metadata": {
    "colab": {
      "provenance": [],
      "authorship_tag": "ABX9TyPlKFggdIa+rSwbEPK4apYx",
      "include_colab_link": true
    },
    "kernelspec": {
      "name": "python3",
      "display_name": "Python 3"
    },
    "language_info": {
      "name": "python"
    }
  },
  "cells": [
    {
      "cell_type": "markdown",
      "metadata": {
        "id": "view-in-github",
        "colab_type": "text"
      },
      "source": [
        "<a href=\"https://colab.research.google.com/github/nedlecky/Colabs/blob/main/Thermocouple_Linear.ipynb\" target=\"_parent\"><img src=\"https://colab.research.google.com/assets/colab-badge.svg\" alt=\"Open In Colab\"/></a>"
      ]
    },
    {
      "cell_type": "code",
      "execution_count": null,
      "metadata": {
        "id": "nedp4wU8pITb"
      },
      "outputs": [],
      "source": [
        "#Test\n",
        "import numpy as np\n",
        "x = np.array([0,300,500,1000,1500,1700,2000,2500,3000,3300,3500,4000,4500,5000,5300,5500,5900,6000], dtype='f')\n",
        "y = np.array([32.0,122.4,176.0,296.4,405.7,447.6,509.0,608.4,704.7,761.4,799.0,891.9,983.0,1072.6,1125.7,1160.8,1230.3,1247.5])"
      ]
    },
    {
      "cell_type": "code",
      "source": [
        "print(x.reshape(18,1).shape)\n",
        "print(y.shape)"
      ],
      "metadata": {
        "colab": {
          "base_uri": "https://localhost:8080/"
        },
        "id": "eQ06Do5VpXdo",
        "outputId": "697072d0-b451-41cd-8f6e-592ebb820cab"
      },
      "execution_count": null,
      "outputs": [
        {
          "output_type": "stream",
          "name": "stdout",
          "text": [
            "(18, 1)\n",
            "(18,)\n"
          ]
        }
      ]
    },
    {
      "cell_type": "code",
      "source": [
        "x.resize(18,1)\n",
        "print(x)\n",
        "print(x.T)"
      ],
      "metadata": {
        "colab": {
          "base_uri": "https://localhost:8080/"
        },
        "id": "wApI6WjipdV-",
        "outputId": "ec3e0681-a28e-4de0-c392-ad55970f9d15"
      },
      "execution_count": null,
      "outputs": [
        {
          "output_type": "stream",
          "name": "stdout",
          "text": [
            "[[0]\n",
            " [300]\n",
            " [500]\n",
            " [1000]\n",
            " [1500]\n",
            " [1700]\n",
            " [2000]\n",
            " [2500]\n",
            " [3000]\n",
            " [3300]\n",
            " [3500]\n",
            " [4000]\n",
            " [4500]\n",
            " [5000]\n",
            " [5300]\n",
            " [5500]\n",
            " [5900]\n",
            " [6000]]\n",
            "[[0 300 500 1000 1500 1700 2000 2500 3000 3300 3500 4000 4500 5000 5300\n",
            "  5500 5900 6000]]\n"
          ]
        }
      ]
    },
    {
      "cell_type": "code",
      "source": [
        "y.resize(18,1)\n",
        "print(y)\n"
      ],
      "metadata": {
        "colab": {
          "base_uri": "https://localhost:8080/"
        },
        "id": "6sE9OCUCpiTe",
        "outputId": "425de30c-1f8d-493b-d917-b5d8a11a9900"
      },
      "execution_count": null,
      "outputs": [
        {
          "output_type": "stream",
          "name": "stdout",
          "text": [
            "[[32]\n",
            " [122]\n",
            " [176]\n",
            " [296]\n",
            " [406]\n",
            " [448]\n",
            " [509]\n",
            " [608]\n",
            " [705]\n",
            " [761]\n",
            " [799]\n",
            " [892]\n",
            " [983]\n",
            " [1073]\n",
            " [1126]\n",
            " [1161]\n",
            " [1230]\n",
            " [1248]]\n"
          ]
        }
      ]
    },
    {
      "cell_type": "code",
      "source": [
        "data = np.hstack([x,y])"
      ],
      "metadata": {
        "id": "62n6efOxplo-"
      },
      "execution_count": null,
      "outputs": []
    },
    {
      "cell_type": "code",
      "source": [
        "data"
      ],
      "metadata": {
        "colab": {
          "base_uri": "https://localhost:8080/"
        },
        "id": "dkqEdHA5sD9o",
        "outputId": "782ebee0-f5bf-4b1a-beda-b3a41db98a17"
      },
      "execution_count": null,
      "outputs": [
        {
          "output_type": "execute_result",
          "data": {
            "text/plain": [
              "array([[0, 32],\n",
              "       [300, 122],\n",
              "       [500, 176],\n",
              "       [1000, 296],\n",
              "       [1500, 406],\n",
              "       [1700, 448],\n",
              "       [2000, 509],\n",
              "       [2500, 608],\n",
              "       [3000, 705],\n",
              "       [3300, 761],\n",
              "       [3500, 799],\n",
              "       [4000, 892],\n",
              "       [4500, 983],\n",
              "       [5000, 1073],\n",
              "       [5300, 1126],\n",
              "       [5500, 1161],\n",
              "       [5900, 1230],\n",
              "       [6000, 1248]])"
            ]
          },
          "metadata": {},
          "execution_count": 29
        }
      ]
    },
    {
      "cell_type": "code",
      "source": [
        "import pandas as pd\n",
        "df = pd.DataFrame(data, columns=['emf', 'Temp'])"
      ],
      "metadata": {
        "id": "0Tt7y11UsPKv"
      },
      "execution_count": null,
      "outputs": []
    },
    {
      "cell_type": "code",
      "source": [
        "df"
      ],
      "metadata": {
        "colab": {
          "base_uri": "https://localhost:8080/",
          "height": 614
        },
        "id": "dN8TrtEgspzd",
        "outputId": "703e89f2-77ad-4a5e-cfb0-265ee1316ad4"
      },
      "execution_count": null,
      "outputs": [
        {
          "output_type": "execute_result",
          "data": {
            "text/plain": [
              "       emf    Temp\n",
              "0      0.0    32.0\n",
              "1    300.0   122.4\n",
              "2    500.0   176.0\n",
              "3   1000.0   296.4\n",
              "4   1500.0   405.7\n",
              "5   1700.0   447.6\n",
              "6   2000.0   509.0\n",
              "7   2500.0   608.4\n",
              "8   3000.0   704.7\n",
              "9   3300.0   761.4\n",
              "10  3500.0   799.0\n",
              "11  4000.0   891.9\n",
              "12  4500.0   983.0\n",
              "13  5000.0  1072.6\n",
              "14  5300.0  1125.7\n",
              "15  5500.0  1160.8\n",
              "16  5900.0  1230.3\n",
              "17  6000.0  1247.5"
            ],
            "text/html": [
              "\n",
              "  <div id=\"df-5b5b39fe-82ff-4abc-8d16-7799c13e8f9d\">\n",
              "    <div class=\"colab-df-container\">\n",
              "      <div>\n",
              "<style scoped>\n",
              "    .dataframe tbody tr th:only-of-type {\n",
              "        vertical-align: middle;\n",
              "    }\n",
              "\n",
              "    .dataframe tbody tr th {\n",
              "        vertical-align: top;\n",
              "    }\n",
              "\n",
              "    .dataframe thead th {\n",
              "        text-align: right;\n",
              "    }\n",
              "</style>\n",
              "<table border=\"1\" class=\"dataframe\">\n",
              "  <thead>\n",
              "    <tr style=\"text-align: right;\">\n",
              "      <th></th>\n",
              "      <th>emf</th>\n",
              "      <th>Temp</th>\n",
              "    </tr>\n",
              "  </thead>\n",
              "  <tbody>\n",
              "    <tr>\n",
              "      <th>0</th>\n",
              "      <td>0.0</td>\n",
              "      <td>32.0</td>\n",
              "    </tr>\n",
              "    <tr>\n",
              "      <th>1</th>\n",
              "      <td>300.0</td>\n",
              "      <td>122.4</td>\n",
              "    </tr>\n",
              "    <tr>\n",
              "      <th>2</th>\n",
              "      <td>500.0</td>\n",
              "      <td>176.0</td>\n",
              "    </tr>\n",
              "    <tr>\n",
              "      <th>3</th>\n",
              "      <td>1000.0</td>\n",
              "      <td>296.4</td>\n",
              "    </tr>\n",
              "    <tr>\n",
              "      <th>4</th>\n",
              "      <td>1500.0</td>\n",
              "      <td>405.7</td>\n",
              "    </tr>\n",
              "    <tr>\n",
              "      <th>5</th>\n",
              "      <td>1700.0</td>\n",
              "      <td>447.6</td>\n",
              "    </tr>\n",
              "    <tr>\n",
              "      <th>6</th>\n",
              "      <td>2000.0</td>\n",
              "      <td>509.0</td>\n",
              "    </tr>\n",
              "    <tr>\n",
              "      <th>7</th>\n",
              "      <td>2500.0</td>\n",
              "      <td>608.4</td>\n",
              "    </tr>\n",
              "    <tr>\n",
              "      <th>8</th>\n",
              "      <td>3000.0</td>\n",
              "      <td>704.7</td>\n",
              "    </tr>\n",
              "    <tr>\n",
              "      <th>9</th>\n",
              "      <td>3300.0</td>\n",
              "      <td>761.4</td>\n",
              "    </tr>\n",
              "    <tr>\n",
              "      <th>10</th>\n",
              "      <td>3500.0</td>\n",
              "      <td>799.0</td>\n",
              "    </tr>\n",
              "    <tr>\n",
              "      <th>11</th>\n",
              "      <td>4000.0</td>\n",
              "      <td>891.9</td>\n",
              "    </tr>\n",
              "    <tr>\n",
              "      <th>12</th>\n",
              "      <td>4500.0</td>\n",
              "      <td>983.0</td>\n",
              "    </tr>\n",
              "    <tr>\n",
              "      <th>13</th>\n",
              "      <td>5000.0</td>\n",
              "      <td>1072.6</td>\n",
              "    </tr>\n",
              "    <tr>\n",
              "      <th>14</th>\n",
              "      <td>5300.0</td>\n",
              "      <td>1125.7</td>\n",
              "    </tr>\n",
              "    <tr>\n",
              "      <th>15</th>\n",
              "      <td>5500.0</td>\n",
              "      <td>1160.8</td>\n",
              "    </tr>\n",
              "    <tr>\n",
              "      <th>16</th>\n",
              "      <td>5900.0</td>\n",
              "      <td>1230.3</td>\n",
              "    </tr>\n",
              "    <tr>\n",
              "      <th>17</th>\n",
              "      <td>6000.0</td>\n",
              "      <td>1247.5</td>\n",
              "    </tr>\n",
              "  </tbody>\n",
              "</table>\n",
              "</div>\n",
              "      <button class=\"colab-df-convert\" onclick=\"convertToInteractive('df-5b5b39fe-82ff-4abc-8d16-7799c13e8f9d')\"\n",
              "              title=\"Convert this dataframe to an interactive table.\"\n",
              "              style=\"display:none;\">\n",
              "        \n",
              "  <svg xmlns=\"http://www.w3.org/2000/svg\" height=\"24px\"viewBox=\"0 0 24 24\"\n",
              "       width=\"24px\">\n",
              "    <path d=\"M0 0h24v24H0V0z\" fill=\"none\"/>\n",
              "    <path d=\"M18.56 5.44l.94 2.06.94-2.06 2.06-.94-2.06-.94-.94-2.06-.94 2.06-2.06.94zm-11 1L8.5 8.5l.94-2.06 2.06-.94-2.06-.94L8.5 2.5l-.94 2.06-2.06.94zm10 10l.94 2.06.94-2.06 2.06-.94-2.06-.94-.94-2.06-.94 2.06-2.06.94z\"/><path d=\"M17.41 7.96l-1.37-1.37c-.4-.4-.92-.59-1.43-.59-.52 0-1.04.2-1.43.59L10.3 9.45l-7.72 7.72c-.78.78-.78 2.05 0 2.83L4 21.41c.39.39.9.59 1.41.59.51 0 1.02-.2 1.41-.59l7.78-7.78 2.81-2.81c.8-.78.8-2.07 0-2.86zM5.41 20L4 18.59l7.72-7.72 1.47 1.35L5.41 20z\"/>\n",
              "  </svg>\n",
              "      </button>\n",
              "      \n",
              "  <style>\n",
              "    .colab-df-container {\n",
              "      display:flex;\n",
              "      flex-wrap:wrap;\n",
              "      gap: 12px;\n",
              "    }\n",
              "\n",
              "    .colab-df-convert {\n",
              "      background-color: #E8F0FE;\n",
              "      border: none;\n",
              "      border-radius: 50%;\n",
              "      cursor: pointer;\n",
              "      display: none;\n",
              "      fill: #1967D2;\n",
              "      height: 32px;\n",
              "      padding: 0 0 0 0;\n",
              "      width: 32px;\n",
              "    }\n",
              "\n",
              "    .colab-df-convert:hover {\n",
              "      background-color: #E2EBFA;\n",
              "      box-shadow: 0px 1px 2px rgba(60, 64, 67, 0.3), 0px 1px 3px 1px rgba(60, 64, 67, 0.15);\n",
              "      fill: #174EA6;\n",
              "    }\n",
              "\n",
              "    [theme=dark] .colab-df-convert {\n",
              "      background-color: #3B4455;\n",
              "      fill: #D2E3FC;\n",
              "    }\n",
              "\n",
              "    [theme=dark] .colab-df-convert:hover {\n",
              "      background-color: #434B5C;\n",
              "      box-shadow: 0px 1px 3px 1px rgba(0, 0, 0, 0.15);\n",
              "      filter: drop-shadow(0px 1px 2px rgba(0, 0, 0, 0.3));\n",
              "      fill: #FFFFFF;\n",
              "    }\n",
              "  </style>\n",
              "\n",
              "      <script>\n",
              "        const buttonEl =\n",
              "          document.querySelector('#df-5b5b39fe-82ff-4abc-8d16-7799c13e8f9d button.colab-df-convert');\n",
              "        buttonEl.style.display =\n",
              "          google.colab.kernel.accessAllowed ? 'block' : 'none';\n",
              "\n",
              "        async function convertToInteractive(key) {\n",
              "          const element = document.querySelector('#df-5b5b39fe-82ff-4abc-8d16-7799c13e8f9d');\n",
              "          const dataTable =\n",
              "            await google.colab.kernel.invokeFunction('convertToInteractive',\n",
              "                                                     [key], {});\n",
              "          if (!dataTable) return;\n",
              "\n",
              "          const docLinkHtml = 'Like what you see? Visit the ' +\n",
              "            '<a target=\"_blank\" href=https://colab.research.google.com/notebooks/data_table.ipynb>data table notebook</a>'\n",
              "            + ' to learn more about interactive tables.';\n",
              "          element.innerHTML = '';\n",
              "          dataTable['output_type'] = 'display_data';\n",
              "          await google.colab.output.renderOutput(dataTable, element);\n",
              "          const docLink = document.createElement('div');\n",
              "          docLink.innerHTML = docLinkHtml;\n",
              "          element.appendChild(docLink);\n",
              "        }\n",
              "      </script>\n",
              "    </div>\n",
              "  </div>\n",
              "  "
            ]
          },
          "metadata": {},
          "execution_count": 31
        }
      ]
    },
    {
      "cell_type": "code",
      "source": [
        "df.shape\n"
      ],
      "metadata": {
        "colab": {
          "base_uri": "https://localhost:8080/"
        },
        "id": "_yzXYCycterc",
        "outputId": "971a4c80-b21e-4489-e038-316cf90d02f3"
      },
      "execution_count": null,
      "outputs": [
        {
          "output_type": "execute_result",
          "data": {
            "text/plain": [
              "(18, 2)"
            ]
          },
          "metadata": {},
          "execution_count": 42
        }
      ]
    },
    {
      "cell_type": "code",
      "source": [
        "from google.colab import drive\n",
        "drive.mount('/content/gdrive')"
      ],
      "metadata": {
        "colab": {
          "base_uri": "https://localhost:8080/"
        },
        "id": "tGB_VDhHtmlb",
        "outputId": "c3676f33-d5ce-4b51-e897-6203794fe441"
      },
      "execution_count": null,
      "outputs": [
        {
          "output_type": "stream",
          "name": "stdout",
          "text": [
            "Drive already mounted at /content/gdrive; to attempt to forcibly remount, call drive.mount(\"/content/gdrive\", force_remount=True).\n"
          ]
        }
      ]
    },
    {
      "cell_type": "code",
      "source": [
        "df.to_csv('/content/gdrive/My Drive/thermocouple.csv')"
      ],
      "metadata": {
        "id": "XDKAQEciuiz7"
      },
      "execution_count": null,
      "outputs": []
    },
    {
      "cell_type": "code",
      "source": [
        "df2 = pd.read_csv('/content/gdrive/My Drive/thermocouple.csv',index_col=0)\n",
        "df2.shape\n"
      ],
      "metadata": {
        "colab": {
          "base_uri": "https://localhost:8080/"
        },
        "id": "7a7maf82v4On",
        "outputId": "c97084ba-30fc-4443-c8ff-ca4aa29a4bf4"
      },
      "execution_count": null,
      "outputs": [
        {
          "output_type": "execute_result",
          "data": {
            "text/plain": [
              "(18, 2)"
            ]
          },
          "metadata": {},
          "execution_count": 44
        }
      ]
    },
    {
      "cell_type": "code",
      "source": [
        "import matplotlib.pyplot as plt\n",
        "\n",
        "plt.plot(x,y)\n"
      ],
      "metadata": {
        "colab": {
          "base_uri": "https://localhost:8080/",
          "height": 282
        },
        "id": "TJL4mgNPw0b7",
        "outputId": "bc5c8a60-8409-4fa3-f582-cee8b1fbd24c"
      },
      "execution_count": null,
      "outputs": [
        {
          "output_type": "execute_result",
          "data": {
            "text/plain": [
              "[<matplotlib.lines.Line2D at 0x7f923e5c4b50>]"
            ]
          },
          "metadata": {},
          "execution_count": 45
        },
        {
          "output_type": "display_data",
          "data": {
            "text/plain": [
              "<Figure size 432x288 with 1 Axes>"
            ],
            "image/png": "[encoded data removed]"
          },
          "metadata": {
            "needs_background": "light"
          }
        }
      ]
    },
    {
      "cell_type": "code",
      "source": [
        "import matplotlib.pyplot as plt\n",
        "import numpy as np\n",
        "from sklearn import datasets, linear_model\n",
        "from sklearn.metrics import mean_squared_error, r2_score\n",
        "\n",
        "x = np.array([0,300,500,1000,1500,1700,2000,2500,3000,3300,3500,4000,4500,5000,5300,5500,5900,6000], dtype='f')\n",
        "y = np.array([32.0,122.4,176.0,296.4,405.7,447.6,509.0,608.4,704.7,761.4,799.0,891.9,983.0,1072.6,1125.7,1160.8,1230.3,1247.5])\n",
        "x.resize(18,1)\n",
        "y.resize(18,1)\n",
        "\n",
        "#x=x[12:16]\n",
        "#y=y[12:16]\n",
        "\n",
        "regr = linear_model.LinearRegression()\n",
        "\n",
        "regr.fit(x, y)\n",
        "\n",
        "y_pred = regr.predict(x)\n",
        "\n",
        "# The coefficients\n",
        "print(\"Coefficients: \\n\", regr.coef_)\n",
        "# The mean squared error\n",
        "print(\"Mean squared error: %.2f\" % mean_squared_error(y, y_pred))\n",
        "# The coefficient of determination: 1 is perfect prediction\n",
        "print(\"Coefficient of determination: %.2f\" % r2_score(y, y_pred))\n",
        "\n",
        "# Plot outputs\n",
        "plt.scatter(x, y, color=\"black\")\n",
        "plt.plot(x, y_pred, color=\"blue\", linewidth=3)\n",
        "\n",
        "plt.xticks(())\n",
        "plt.yticks(())\n",
        "\n",
        "plt.show()\n",
        "np.set_printoptions(formatter={'float': lambda x: \"{0:0.0f}\".format(x)})\n",
        "print(np.hstack((y,y_pred,y_pred-y,(y_pred-y)*100/y)))"
      ],
      "metadata": {
        "colab": {
          "base_uri": "https://localhost:8080/",
          "height": 634
        },
        "id": "YDCaPOeifAYp",
        "outputId": "7278655a-ef17-4a6f-9ef9-8888ed8a51da"
      },
      "execution_count": null,
      "outputs": [
        {
          "output_type": "stream",
          "name": "stdout",
          "text": [
            "Coefficients: \n",
            " [[0]]\n",
            "Mean squared error: 526.05\n",
            "Coefficient of determination: 1.00\n"
          ]
        },
        {
          "output_type": "display_data",
          "data": {
            "text/plain": [
              "<Figure size 432x288 with 1 Axes>"
            ],
            "image/png": "[encoded data removed]"
          },
          "metadata": {}
        },
        {
          "output_type": "stream",
          "name": "stdout",
          "text": [
            "[[32 91 59 184]\n",
            " [122 150 28 23]\n",
            " [176 189 13 8]\n",
            " [296 288 -8 -3]\n",
            " [406 387 -19 -5]\n",
            " [448 426 -22 -5]\n",
            " [509 485 -24 -5]\n",
            " [608 584 -25 -4]\n",
            " [705 682 -23 -3]\n",
            " [761 741 -20 -3]\n",
            " [799 781 -18 -2]\n",
            " [892 879 -13 -1]\n",
            " [983 978 -5 -1]\n",
            " [1073 1076 4 0]\n",
            " [1126 1135 10 1]\n",
            " [1161 1175 14 1]\n",
            " [1230 1254 23 2]\n",
            " [1248 1273 26 2]]\n"
          ]
        }
      ]
    },
    {
      "cell_type": "code",
      "source": [
        "# SVM 1\n",
        "from sklearn import svm\n",
        "regr = svm.SVR()\n",
        "regr.fit(x, y.reshape(18,))\n",
        "y_pred=regr.predict(x).reshape(18,1)\n",
        "\n",
        "# The mean squared error\n",
        "print(\"Mean squared error: %.2f\" % mean_squared_error(y, y_pred))\n",
        "# The coefficient of determination: 1 is perfect prediction\n",
        "print(\"Coefficient of determination: %.2f\" % r2_score(y, y_pred))\n",
        "\n",
        "# Plot outputs\n",
        "plt.scatter(x, y, color=\"black\")\n",
        "plt.plot(x, y_pred, color=\"blue\", linewidth=3)\n",
        "\n",
        "plt.xticks(())\n",
        "plt.yticks(())\n",
        "\n",
        "plt.show()\n",
        "np.set_printoptions(formatter={'float': lambda x: \"{0:0.0f}\".format(x)})\n",
        "print(np.hstack((y,y_pred,y_pred-y,(y_pred-y)*100/y)))"
      ],
      "metadata": {
        "colab": {
          "base_uri": "https://localhost:8080/",
          "height": 599
        },
        "id": "uU-t0azgf9r_",
        "outputId": "6414f61d-5a65-451e-96eb-b84e9949fe90"
      },
      "execution_count": null,
      "outputs": [
        {
          "output_type": "stream",
          "name": "stdout",
          "text": [
            "Mean squared error: 144989.28\n",
            "Coefficient of determination: 0.02\n"
          ]
        },
        {
          "output_type": "display_data",
          "data": {
            "text/plain": [
              "<Figure size 432x288 with 1 Axes>"
            ],
            "image/png": "[encoded data removed]"
          },
          "metadata": {}
        },
        {
          "output_type": "stream",
          "name": "stdout",
          "text": [
            "[[32 728 696 2174]\n",
            " [122 727 605 494]\n",
            " [176 727 551 313]\n",
            " [296 726 430 145]\n",
            " [406 727 321 79]\n",
            " [448 727 280 62]\n",
            " [509 728 219 43]\n",
            " [608 730 122 20]\n",
            " [705 732 28 4]\n",
            " [761 734 -28 -4]\n",
            " [799 735 -64 -8]\n",
            " [892 737 -155 -17]\n",
            " [983 738 -245 -25]\n",
            " [1073 739 -333 -31]\n",
            " [1126 739 -386 -34]\n",
            " [1161 739 -422 -36]\n",
            " [1230 739 -492 -40]\n",
            " [1248 738 -509 -41]]\n"
          ]
        }
      ]
    },
    {
      "cell_type": "code",
      "source": [
        "# SVM 2\n",
        "from sklearn import svm\n",
        "regr = svm.SVR()\n",
        "\n",
        "from sklearn import preprocessing\n",
        "std_scaler = preprocessing.StandardScaler()\n",
        "x_standard = std_scaler.fit_transform(x)\n",
        "std_scaler.transform(x)\n",
        "\n",
        "regr.fit(x, y.reshape(18,))\n",
        "y_pred=regr.predict(x).reshape(18,1)\n",
        "\n",
        "# The mean squared error\n",
        "print(\"Mean squared error: %.2f\" % mean_squared_error(y, y_pred))\n",
        "# The coefficient of determination: 1 is perfect prediction\n",
        "print(\"Coefficient of determination: %.2f\" % r2_score(y, y_pred))\n",
        "\n",
        "# Plot outputs\n",
        "plt.scatter(x, y, color=\"black\")\n",
        "plt.plot(x, y_pred, color=\"blue\", linewidth=3)\n",
        "\n",
        "plt.xticks(())\n",
        "plt.yticks(())\n",
        "\n",
        "plt.show()\n",
        "np.set_printoptions(formatter={'float': lambda x: \"{0:0.0f}\".format(x)})\n",
        "print(np.hstack((x,y,y_pred,y_pred-y,(y_pred-y)*100/y)))\n"
      ],
      "metadata": {
        "colab": {
          "base_uri": "https://localhost:8080/",
          "height": 599
        },
        "id": "SplUIL48kxz4",
        "outputId": "b2fb8c6e-f54e-4681-9bc3-ab1af25ee0cf"
      },
      "execution_count": null,
      "outputs": [
        {
          "output_type": "stream",
          "name": "stdout",
          "text": [
            "Mean squared error: 144989.28\n",
            "Coefficient of determination: 0.02\n"
          ]
        },
        {
          "output_type": "display_data",
          "data": {
            "text/plain": [
              "<Figure size 432x288 with 1 Axes>"
            ],
            "image/png": "[encoded data removed]"
          },
          "metadata": {}
        },
        {
          "output_type": "stream",
          "name": "stdout",
          "text": [
            "[[-2 32 728 696 2174]\n",
            " [-1 122 727 605 494]\n",
            " [-1 176 727 551 313]\n",
            " [-1 296 726 430 145]\n",
            " [-1 406 727 321 79]\n",
            " [-1 448 727 280 62]\n",
            " [-1 509 728 219 43]\n",
            " [-0 608 730 122 20]\n",
            " [-0 705 732 28 4]\n",
            " [0 761 734 -28 -4]\n",
            " [0 799 735 -64 -8]\n",
            " [0 892 737 -155 -17]\n",
            " [1 983 738 -245 -25]\n",
            " [1 1073 739 -333 -31]\n",
            " [1 1126 739 -386 -34]\n",
            " [1 1161 739 -422 -36]\n",
            " [1 1230 739 -492 -40]\n",
            " [1 1248 738 -509 -41]]\n"
          ]
        }
      ]
    },
    {
      "cell_type": "code",
      "source": [
        "#MLP\n",
        "x = np.array([0,300,500,1000,1500,1700,2000,2500,3000,3300,3500,4000,4500,5000,5300,5500,5900,6000], dtype='f')\n",
        "y = np.array([32.0,122.4,176.0,296.4,405.7,447.6,509.0,608.4,704.7,761.4,799.0,891.9,983.0,1072.6,1125.7,1160.8,1230.3,1247.5])\n",
        "x.resize(18,1)\n",
        "y.resize(18,1)\n",
        "\n",
        "from sklearn.neural_network import MLPRegressor\n",
        "reg = MLPRegressor(solver='lbfgs', alpha=1e-5,\n",
        "                     hidden_layer_sizes=(5, 2), random_state=1)\n",
        "\n",
        "reg.fit(x, y.reshape(18,))\n",
        "\n",
        "y_pred=reg.predict(x).reshape(18,1)\n",
        "\n",
        "# The mean squared error\n",
        "print(\"Mean squared error: %.2f\" % mean_squared_error(y, y_pred))\n",
        "# The coefficient of determination: 1 is perfect prediction\n",
        "print(\"Coefficient of determination: %.2f\" % r2_score(y, y_pred))\n",
        "\n",
        "# Plot outputs\n",
        "plt.scatter(x, y, color=\"black\")\n",
        "plt.plot(x, y_pred, color=\"blue\", linewidth=3)\n",
        "\n",
        "plt.xticks(())\n",
        "plt.yticks(())\n",
        "\n",
        "plt.show()\n",
        "np.set_printoptions(formatter={'float': lambda x: \"{0:0.0f}\".format(x)})\n",
        "print(np.hstack((x,y,y_pred,y_pred-y,(y_pred-y)*100/y)))\n"
      ],
      "metadata": {
        "id": "d8l7UH1vlV8_",
        "colab": {
          "base_uri": "https://localhost:8080/",
          "height": 599
        },
        "outputId": "0ec07e52-024c-4202-cc99-5deef6aedd2f"
      },
      "execution_count": null,
      "outputs": [
        {
          "output_type": "stream",
          "name": "stdout",
          "text": [
            "Mean squared error: 286.57\n",
            "Coefficient of determination: 1.00\n"
          ]
        },
        {
          "output_type": "display_data",
          "data": {
            "text/plain": [
              "<Figure size 432x288 with 1 Axes>"
            ],
            "image/png": "[encoded data removed]"
          },
          "metadata": {}
        },
        {
          "output_type": "stream",
          "name": "stdout",
          "text": [
            "[[0 32 32 -0 -0]\n",
            " [300 122 163 41 33]\n",
            " [500 176 202 26 15]\n",
            " [1000 296 299 3 1]\n",
            " [1500 406 396 -10 -2]\n",
            " [1700 448 435 -13 -3]\n",
            " [2000 509 493 -16 -3]\n",
            " [2500 608 590 -19 -3]\n",
            " [3000 705 686 -18 -3]\n",
            " [3300 761 745 -17 -2]\n",
            " [3500 799 783 -16 -2]\n",
            " [4000 892 880 -12 -1]\n",
            " [4500 983 977 -6 -1]\n",
            " [5000 1073 1074 1 0]\n",
            " [5300 1126 1132 6 1]\n",
            " [5500 1161 1171 10 1]\n",
            " [5900 1230 1248 18 1]\n",
            " [6000 1248 1268 20 2]]\n"
          ]
        }
      ]
    },
    {
      "cell_type": "code",
      "source": [
        "# MLP with Scaler\n",
        "x = np.array([0,300,500,1000,1500,1700,2000,2500,3000,3300,3500,4000,4500,5000,5300,5500,5900,6000], dtype='f')\n",
        "y = np.array([32.0,122.4,176.0,296.4,405.7,447.6,509.0,608.4,704.7,761.4,799.0,891.9,983.0,1072.6,1125.7,1160.8,1230.3,1247.5])\n",
        "x.resize(18,1)\n",
        "y.resize(18,1)\n",
        "\n",
        "from sklearn import preprocessing\n",
        "std_scaler = preprocessing.StandardScaler()\n",
        "x_standard = std_scaler.fit_transform(x)\n",
        "x=std_scaler.transform(x)\n",
        "\n",
        "from sklearn.neural_network import MLPRegressor\n",
        "reg = MLPRegressor(solver='lbfgs', alpha=1e-5,\n",
        "                     hidden_layer_sizes=(5, 2), random_state=1)\n",
        "\n",
        "reg.fit(x, y.reshape(18,))\n",
        "\n",
        "y_pred=reg.predict(x).reshape(18,1)\n",
        "\n",
        "# The mean squared error\n",
        "print(\"Mean squared error: %.2f\" % mean_squared_error(y, y_pred))\n",
        "# The coefficient of determination: 1 is perfect prediction\n",
        "print(\"Coefficient of determination: %.2f\" % r2_score(y, y_pred))\n",
        "\n",
        "# Plot outputs\n",
        "plt.scatter(x, y, color=\"black\")\n",
        "plt.plot(x, y_pred, color=\"blue\", linewidth=3)\n",
        "\n",
        "plt.xticks(())\n",
        "plt.yticks(())\n",
        "\n",
        "plt.show()\n",
        "np.set_printoptions(formatter={'float': lambda x: \"{0:0.0f}\".format(x)})\n",
        "print(np.hstack((x,y,y_pred,y_pred-y,(y_pred-y)*100/y)))\n"
      ],
      "metadata": {
        "colab": {
          "base_uri": "https://localhost:8080/",
          "height": 599
        },
        "id": "YB0fni1H1pDe",
        "outputId": "8b945a7c-24a2-4423-eb53-2217a98d91b9"
      },
      "execution_count": null,
      "outputs": [
        {
          "output_type": "stream",
          "name": "stdout",
          "text": [
            "Mean squared error: 3.07\n",
            "Coefficient of determination: 1.00\n"
          ]
        },
        {
          "output_type": "display_data",
          "data": {
            "text/plain": [
              "<Figure size 432x288 with 1 Axes>"
            ],
            "image/png": "[encoded data removed]"
          },
          "metadata": {}
        },
        {
          "output_type": "stream",
          "name": "stdout",
          "text": [
            "[[-2 32 36 4 11]\n",
            " [-1 122 119 -3 -3]\n",
            " [-1 176 173 -3 -2]\n",
            " [-1 296 300 3 1]\n",
            " [-1 406 406 -0 -0]\n",
            " [-1 448 447 -1 -0]\n",
            " [-1 509 509 -0 -0]\n",
            " [-0 608 611 2 0]\n",
            " [-0 705 705 -0 -0]\n",
            " [0 761 761 -1 -0]\n",
            " [0 799 798 -1 -0]\n",
            " [0 892 893 1 0]\n",
            " [1 983 983 -0 -0]\n",
            " [1 1073 1072 -1 -0]\n",
            " [1 1126 1125 -1 -0]\n",
            " [1 1161 1160 -1 -0]\n",
            " [1 1230 1231 1 0]\n",
            " [1 1248 1249 1 0]]\n"
          ]
        }
      ]
    },
    {
      "cell_type": "code",
      "source": [
        "# MLP with Scaler 100,50 neurons\n",
        "x = np.array([0,300,500,1000,1500,1700,2000,2500,3000,3300,3500,4000,4500,5000,5300,5500,5900,6000], dtype='f')\n",
        "y = np.array([32.0,122.4,176.0,296.4,405.7,447.6,509.0,608.4,704.7,761.4,799.0,891.9,983.0,1072.6,1125.7,1160.8,1230.3,1247.5])\n",
        "x.resize(18,1)\n",
        "y.resize(18,1)\n",
        "\n",
        "from sklearn import preprocessing\n",
        "std_scaler = preprocessing.StandardScaler()\n",
        "x_standard = std_scaler.fit_transform(x)\n",
        "x=std_scaler.transform(x)\n",
        "\n",
        "from sklearn.neural_network import MLPRegressor\n",
        "reg = MLPRegressor(solver='lbfgs', alpha=1e-5, max_iter=10000,\n",
        "                     hidden_layer_sizes=(40, 40), random_state=1)\n",
        "#reg = MLPRegressor(solver='adam', alpha=1e-5, activation='relu', max_iter=10000,\n",
        "#                     hidden_layer_sizes=(40, 40), random_state=1)\n",
        "# Hyperparameters....\n",
        "# layer_sizes activation MSE\n",
        "# 5,3     relu 8.77\n",
        "# 7,4     relu 590.76\n",
        "# 8,4     relu 15000\n",
        "# 10,4    relu 43\n",
        "# 20,20   relu 2.87\n",
        "# 40,40   relu 0.8 max_iter=200\n",
        "# 40,40   relu 0.08 max_iter=10000\n",
        "# 40,40   identity Takes us back to LinearRegression!!\n",
        "# 40,40   logistic No converge zig-zag prediction\n",
        "# 20,20   logistic No converge WORSE zig-zag prediction\n",
        "# 40,40 adam relu 10000 MSE=10.... and so on!\n",
        "\n",
        "reg.fit(x, y.reshape(18,))\n",
        "\n",
        "y_pred=reg.predict(x).reshape(18,1)\n",
        "\n",
        "# The mean squared error\n",
        "print(\"Mean squared error: %.2f\" % mean_squared_error(y, y_pred))\n",
        "# The coefficient of determination: 1 is perfect prediction\n",
        "print(\"Coefficient of determination: %.2f\" % r2_score(y, y_pred))\n",
        "\n",
        "# Plot outputs\n",
        "plt.scatter(x, y, color=\"black\")\n",
        "plt.plot(x, y_pred, color=\"blue\", linewidth=3)\n",
        "\n",
        "plt.xticks(())\n",
        "plt.yticks(())\n",
        "\n",
        "plt.show()\n",
        "np.set_printoptions(formatter={'float': lambda x: \"{0:0.2f}\".format(x)})\n",
        "print(np.hstack((x,y,y_pred,y_pred-y,(y_pred-y)*100/y)))\n",
        "\n"
      ],
      "metadata": {
        "colab": {
          "base_uri": "https://localhost:8080/",
          "height": 599
        },
        "id": "q7iuRRZd4JJ8",
        "outputId": "b5d22d33-dc05-4903-ad4e-3e66b9c2f542"
      },
      "execution_count": null,
      "outputs": [
        {
          "output_type": "stream",
          "name": "stdout",
          "text": [
            "Mean squared error: 0.08\n",
            "Coefficient of determination: 1.00\n"
          ]
        },
        {
          "output_type": "display_data",
          "data": {
            "text/plain": [
              "<Figure size 432x288 with 1 Axes>"
            ],
            "image/png": "[encoded data removed]"
          },
          "metadata": {}
        },
        {
          "output_type": "stream",
          "name": "stdout",
          "text": [
            "[[-1.58 32.00 32.00 -0.00 -0.01]\n",
            " [-1.43 122.40 122.42 0.02 0.02]\n",
            " [-1.33 176.00 175.99 -0.01 -0.01]\n",
            " [-1.07 296.40 296.63 0.23 0.08]\n",
            " [-0.81 405.70 404.90 -0.80 -0.20]\n",
            " [-0.71 447.60 448.16 0.56 0.12]\n",
            " [-0.56 509.00 509.01 0.01 0.00]\n",
            " [-0.30 608.40 608.39 -0.01 -0.00]\n",
            " [-0.04 704.70 704.75 0.05 0.01]\n",
            " [0.11 761.40 761.32 -0.08 -0.01]\n",
            " [0.21 799.00 799.03 0.03 0.00]\n",
            " [0.47 891.90 891.91 0.01 0.00]\n",
            " [0.73 983.00 982.99 -0.01 -0.00]\n",
            " [0.99 1072.60 1073.00 0.40 0.04]\n",
            " [1.14 1125.70 1125.44 -0.26 -0.02]\n",
            " [1.24 1160.80 1160.40 -0.40 -0.03]\n",
            " [1.45 1230.30 1230.30 0.00 0.00]\n",
            " [1.50 1247.50 1247.78 0.28 0.02]]\n"
          ]
        }
      ]
    },
    {
      "cell_type": "code",
      "source": [
        "# Extrapolate\n",
        "x2 = np.arange(-1000, 8000, 10, dtype=float).reshape(-1,1)\n",
        "#print(x)\n",
        "x2=std_scaler.transform(x2)\n",
        "np.set_printoptions(formatter={'float': lambda x: \"{0:0.4f}\".format(x)})\n",
        "#print(x)\n",
        "\n",
        "#print(x.dtype)\n",
        "\n",
        "y_pred=reg.predict(x2).reshape(-1,1)\n",
        "\n",
        "# Plot outputs\n",
        "plt.scatter(x, y, color=\"black\")\n",
        "plt.plot(x2, y_pred, color=\"blue\", linewidth=3)\n",
        "\n",
        "plt.xticks(())\n",
        "plt.yticks(())\n",
        "\n",
        "plt.show()\n",
        "#np.set_printoptions(formatter={'float': lambda x: \"{0:0.0f}\".format(x)})\n",
        "#print(np.hstack((x,y,y_pred,y_pred-y,(y_pred-y)*100/y)))\n"
      ],
      "metadata": {
        "colab": {
          "base_uri": "https://localhost:8080/",
          "height": 252
        },
        "id": "U1cfLrrT5B6v",
        "outputId": "a49a311a-4089-47e4-d9a5-9ac9287b28db"
      },
      "execution_count": null,
      "outputs": [
        {
          "output_type": "display_data",
          "data": {
            "text/plain": [
              "<Figure size 432x288 with 1 Axes>"
            ],
            "image/png": "[encoded data removed]"
          },
          "metadata": {}
        }
      ]
    },
    {
      "cell_type": "code",
      "source": [],
      "metadata": {
        "id": "_B5SHmSi5yeQ"
      },
      "execution_count": null,
      "outputs": []
    }
  ]
}